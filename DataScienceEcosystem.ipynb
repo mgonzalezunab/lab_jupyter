{
 "cells": [
  {
   "cell_type": "markdown",
   "id": "c9e95233-65a1-40a1-916a-9d92c9a57e25",
   "metadata": {},
   "source": [
    "<h5>Exercise 1: Create a Jupyter Notebook</h5>"
   ]
  },
  {
   "cell_type": "markdown",
   "id": "854ba432-67b0-4b39-b443-72d4e6da1bf6",
   "metadata": {},
   "source": [
    "<h5>Exercise 2: Create markdown cell with title of the notebook</h5>"
   ]
  },
  {
   "cell_type": "markdown",
   "id": "6d3625b8-8e37-4214-8492-8a682b353019",
   "metadata": {},
   "source": [
    "<h1>Data Science Tools and Ecosystem</h1>"
   ]
  },
  {
   "cell_type": "markdown",
   "id": "cc91a78c-0d22-4891-8ab4-7a9a88887a97",
   "metadata": {},
   "source": [
    "<h5>Exercise 3 - Create a markdown cell for an introduction</h5>"
   ]
  },
  {
   "cell_type": "markdown",
   "id": "d58c2a82-1fc9-4b8c-9f6c-eb2382e366b4",
   "metadata": {},
   "source": [
    "In this notebook, Data Science Tools and Ecosystem are summarized\n",
    "\n",
    "<b>Objectives:</b>\n",
    "\n",
    "- Java\n",
    "- Python\n",
    "- SQL"
   ]
  },
  {
   "cell_type": "markdown",
   "id": "d76e1c8d-a0a5-4ffb-b383-a3fc6fb05c0c",
   "metadata": {},
   "source": [
    "<h5>Exercise 4 - Create a markdown cell to list data science languages</h5"
   ]
  },
  {
   "cell_type": "markdown",
   "id": "59034ca2-7021-45ca-8998-1b6d9438f84b",
   "metadata": {},
   "source": [
    "Some of the popular languages that Data Scientists use are:\n",
    "\n",
    "<ol>\n",
    "    <li>SQL</li>\n",
    "    <li>Python</li>\n",
    "    <li>R</li>\n",
    "    <li>Java</li>\n",
    "    <li>C#</li>\n",
    "</ol>"
   ]
  },
  {
   "cell_type": "markdown",
   "id": "67e4935a-204e-473b-994d-ababc552143f",
   "metadata": {},
   "source": [
    "<h5>Exercise 5 - Create a markdown cell to list data science libraries</h5"
   ]
  },
  {
   "cell_type": "markdown",
   "id": "4fc9e390-1ad8-4089-bb03-ddc442aac78e",
   "metadata": {},
   "source": [
    "Some of the commonly used libraries used by Data Scientists include:\n",
    "\n",
    "<ol>\n",
    "  <li>NumPy</li>\n",
    "  <li>Pandas</li>\n",
    "  <li>Matplotlib</li>\n",
    "</ol>"
   ]
  },
  {
   "cell_type": "markdown",
   "id": "8e81ddc1-9100-48da-8dc1-bb654e1924e1",
   "metadata": {},
   "source": [
    "<h5>Exercise 6 - Create a markdown cell with a table of Data Science tools</h5>"
   ]
  },
  {
   "cell_type": "markdown",
   "id": "e225e75e-20e0-444e-954a-6a21518191e6",
   "metadata": {},
   "source": [
    "<table>\n",
    "    <tr>\n",
    "        <td>Data Science Tools</td>\n",
    "    </tr>\n",
    "    <tr>\n",
    "        <td>Jupyter</td>\n",
    "    </tr>\n",
    "    <tr>\n",
    "        <td>R studio</td>\n",
    "    </tr>\n",
    "    <tr>\n",
    "        <td>VS Code</td>\n",
    "    </tr>\n",
    "</table>\n"
   ]
  },
  {
   "cell_type": "markdown",
   "id": "d3e58f21-d740-4fd6-a888-a82b8bdfaea1",
   "metadata": {},
   "source": [
    "<h5>Exercise 7 - Create a markdown cell introducing arithmetic expression examples</h5>"
   ]
  },
  {
   "cell_type": "markdown",
   "id": "6508fc57-05d1-4de5-abd1-d2e0a35fe9d1",
   "metadata": {},
   "source": [
    "<H3>Below are a few examples of evaluating arithmetic expressions in Python</H3>\n",
    "\n"
   ]
  },
  {
   "cell_type": "markdown",
   "id": "329bbc0d-b2c0-442b-a705-85d98183e552",
   "metadata": {},
   "source": [
    "<h5>Exercise 8 - Create a code cell to multiply and add numbers</h5>"
   ]
  },
  {
   "cell_type": "code",
   "execution_count": 2,
   "id": "d693fae9-a135-4836-a138-0b55eeb638fa",
   "metadata": {},
   "outputs": [
    {
     "name": "stdout",
     "output_type": "stream",
     "text": [
      "17\n"
     ]
    }
   ],
   "source": [
    "# This a simple arithmetic expression to mutiply then add integers\n",
    "\n",
    "resultado = (3*4)+5\n",
    "print(resultado)"
   ]
  },
  {
   "cell_type": "markdown",
   "id": "09015d6b-f6e2-412e-8b9b-88def0af6544",
   "metadata": {},
   "source": [
    "<h5>Exercise 9 - Create a code cell to convert minutes to hours</h5>"
   ]
  },
  {
   "cell_type": "code",
   "execution_count": 3,
   "id": "4e4a4b60-65fd-4ec6-a87e-32975cd2f49f",
   "metadata": {},
   "outputs": [
    {
     "name": "stdout",
     "output_type": "stream",
     "text": [
      "20\n"
     ]
    }
   ],
   "source": [
    "# This will convert 200 minutes to hours by diving by 60\n",
    "\n",
    "resultado = 200 % 60\n",
    "print(resultado)"
   ]
  },
  {
   "cell_type": "markdown",
   "id": "f960c4aa-ed2a-46de-ad37-660ab1c358e5",
   "metadata": {},
   "source": [
    "<h5>Exercise 10 - Insert a markdown cell to list Objectives</h5>"
   ]
  },
  {
   "cell_type": "markdown",
   "id": "deb8d275-f905-449e-8263-f473a703da1a",
   "metadata": {},
   "source": [
    "<h5>Exercise 11 - Create a markdown cell to indicate the Author's name</h5>"
   ]
  },
  {
   "cell_type": "markdown",
   "id": "ec58af84-dd3f-495c-bd92-cfba0a6ec1f6",
   "metadata": {},
   "source": [
    "<h5>Exercise 12 - Share your notebook through GitHub</h5>"
   ]
  },
  {
   "cell_type": "markdown",
   "id": "fb4f6c29-fa95-4a4d-8ed2-239f09943e7c",
   "metadata": {},
   "source": [
    "<h5>Exercise 13 -Take a screenshot of the first page of the notebook and save it as 1-notebook.png</h5>"
   ]
  },
  {
   "cell_type": "code",
   "execution_count": null,
   "id": "82f119e2-d559-4c46-8e10-7ecf987aa0e3",
   "metadata": {},
   "outputs": [],
   "source": []
  }
 ],
 "metadata": {
  "kernelspec": {
   "display_name": "Python 3 (ipykernel)",
   "language": "python",
   "name": "python3"
  },
  "language_info": {
   "codemirror_mode": {
    "name": "ipython",
    "version": 3
   },
   "file_extension": ".py",
   "mimetype": "text/x-python",
   "name": "python",
   "nbconvert_exporter": "python",
   "pygments_lexer": "ipython3",
   "version": "3.12.8"
  }
 },
 "nbformat": 4,
 "nbformat_minor": 5
}
